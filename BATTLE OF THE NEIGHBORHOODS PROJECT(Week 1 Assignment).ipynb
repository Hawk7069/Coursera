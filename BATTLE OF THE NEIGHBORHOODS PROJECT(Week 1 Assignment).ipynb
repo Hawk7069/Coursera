{
 "cells": [
  {
   "cell_type": "markdown",
   "metadata": {},
   "source": [
    "# BATTLE OF THE NEIGHBORHOODS PROJECT\n",
    "## For the Coursera IBM Data Science Course Capstone Project (Week 1 Assignment) "
   ]
  },
  {
   "cell_type": "markdown",
   "metadata": {},
   "source": [
    "## Background of the Problem Statement\n",
    "\n",
    "<p>Building a good chain of outlets for any buisness is a necessity in the current world to survive as a brand. Many brands are unable to sustain in the market even after good quality of products and services for just one most important reason, which is, bad placement of the outlet/branch or not expanding to the correct location at the correct time.</p>\n",
    "    <p>Correct time of expansion depends upon the brand, which usually depends on the quality or products and services as good quality of products and services gain them the necessary fundings to expand. After that, it's upon the brand to invest their resources on expansion or modification of existing outlets.</p>\n",
    "    <p>Though modifications of current outlet/branch is a good step, but in most of the cases, in contrast to expansion, it's effects on the profits is very less.</p>\n",
    "    <p>Correct placement of the outlet/branch in a given neighborhood is a very important step which must be done with all the necessary background studies done as one wrong placement can result into huge loss, and thus we decided to deal with this particular problem. Our area of concern for this project will be the state of New York.</p>\n",
    "    \n",
    "\n",
    "## Problem Statement\n",
    "\n",
    "Keeping in mind the problem stated in the background study, and for a sample client in our scenario, i.e., a Italian Restaurant owner. Thus the problem statement can be stated as:<br>\n",
    "**\"To find the best locations in New York State for the expansion of a Italian Restaurant based in Hudson Yards, Manhattan, NY.\"**"
   ]
  },
  {
   "cell_type": "markdown",
   "metadata": {},
   "source": [
    "## Data Description\n",
    "\n",
    "<p>Data with us is in the form of a JSON file which contains all the boroughs and their neighborhoods in New York State and their locations in the form of latitude and longitude.</p>\n",
    "<p> We will also be leveraging the foursquare API to retrieve all the common venues in every neighborhood, which returns the data of all nearby venues (within specified range)(name and LatLng values) in the form of a JSON file.</p>\n",
    "\n",
    "## Data Usage\n",
    "\n",
    "<p> Data retrieved will be used to find all nearby venues for each neighborhood and then the retrieved data will be evaluated to find which areas do not have sufficient number of such places and/or sufficient number of venues in the area.</p>\n",
    "<p> Result will be shown to the client as which areas will be best in New York state to expand the buisness.</p>"
   ]
  },
  {
   "cell_type": "code",
   "execution_count": null,
   "metadata": {},
   "outputs": [],
   "source": []
  }
 ],
 "metadata": {
  "kernelspec": {
   "display_name": "Python 3",
   "language": "python",
   "name": "python3"
  },
  "language_info": {
   "codemirror_mode": {
    "name": "ipython",
    "version": 3
   },
   "file_extension": ".py",
   "mimetype": "text/x-python",
   "name": "python",
   "nbconvert_exporter": "python",
   "pygments_lexer": "ipython3",
   "version": "3.7.3"
  }
 },
 "nbformat": 4,
 "nbformat_minor": 2
}
